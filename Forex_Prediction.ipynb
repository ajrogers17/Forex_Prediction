{
  "nbformat": 4,
  "nbformat_minor": 0,
  "metadata": {
    "colab": {
      "name": "Forex_Prediction.ipynb",
      "provenance": [],
      "collapsed_sections": [
        "DrSZ5wtSZwhZ",
        "cTR80ZQ3ZzhD",
        "4FajAcivzDls",
        "TJdBvvc9xXDn"
      ],
      "toc_visible": true
    },
    "kernelspec": {
      "display_name": "Python 3",
      "name": "python3"
    },
    "accelerator": "GPU"
  },
  "cells": [
    {
      "cell_type": "markdown",
      "metadata": {
        "id": "DrSZ5wtSZwhZ"
      },
      "source": [
        "#Import Libraries"
      ]
    },
    {
      "cell_type": "code",
      "metadata": {
        "id": "UwWFeLLNZlVk"
      },
      "source": [
        "import tensorflow as tf\n",
        "import keras\n",
        "import matplotlib.pyplot as plt\n",
        "import requests\n",
        "import pandas as pd\n",
        "import csv\n",
        "import numpy as np\n",
        "import time\n",
        "import tensorflow as tf\n",
        "import scipy\n",
        "import math\n",
        "import requests\n",
        "import time\n",
        "import datetime\n",
        "from scipy import stats"
      ],
      "execution_count": 24,
      "outputs": []
    },
    {
      "cell_type": "markdown",
      "metadata": {
        "id": "cTR80ZQ3ZzhD"
      },
      "source": [
        "#Preprocess Data"
      ]
    },
    {
      "cell_type": "code",
      "metadata": {
        "colab": {
          "base_uri": "https://localhost:8080/",
          "height": 295
        },
        "id": "AuYNv1IdZuft",
        "outputId": "7ddc08de-345d-4ef5-867f-dee6c9a1dd03"
      },
      "source": [
        "df = pd.read_csv('/content/EURUSD_MN.csv') #Download EURUSD Minute data in CSV format\n",
        "\n",
        "df = np.array(df['BO'][::5], dtype=np.float32) #Index through the data by intervals of 5 to get 5 minute data\n",
        "print('Dataframe Shape: ' + str(df.shape))\n",
        "\n",
        "plt.plot(df)\n",
        "plt.show()"
      ],
      "execution_count": 28,
      "outputs": [
        {
          "output_type": "stream",
          "text": [
            "Dataframe Shape: (1123764,)\n"
          ],
          "name": "stdout"
        },
        {
          "output_type": "display_data",
          "data": {
            "image/png": "[encoded data removed]",
            "text/plain": [
              "<Figure size 432x288 with 1 Axes>"
            ]
          },
          "metadata": {
            "tags": [],
            "needs_background": "light"
          }
        }
      ]
    },
    {
      "cell_type": "code",
      "metadata": {
        "id": "xUDuO8s4aNgJ"
      },
      "source": [
        "def calc_macd_and_ema(X, display=False):\n",
        "  '''Calculates the Moving Average Convergence Divergence Indicator\n",
        "     and the Exponential Moving Average Indicator'''\n",
        "  macd, ema = [-.1], [1.]\n",
        "\n",
        "  for i in range(1, len(X)):\n",
        "    e26 = X[i] * (2 / 27) + X[i-1] * (1 - (2 / 27))\n",
        "    e12 = X[i] * (2 / 27) + X[i-1] * (1 - (2 / 13))\n",
        "    m = e12 - e26\n",
        "\n",
        "    ema.append(e12)\n",
        "    macd.append(m)\n",
        "\n",
        "  if display:\n",
        "    plt.plot(macd)\n",
        "    plt.title('MACD')\n",
        "    plt.show()\n",
        "\n",
        "    plt.plot(ema)\n",
        "    plt.title('EMA')\n",
        "    plt.show()\n",
        "\n",
        "  return np.array(macd), np.array(ema)\n",
        "\n",
        "\n",
        "def calc_sma(X, window, display=False):\n",
        "  '''Calculates the Simple Moving Average Indicator'''\n",
        "  sma = [1.]\n",
        "  for i in range(1, len(X)):\n",
        "    if i < window:\n",
        "      sma.append((sum(X[:i])) / i)\n",
        "    else: \n",
        "      sma.append((sum(X[i-window:i])) / window)\n",
        "\n",
        "  if display:\n",
        "    plt.plot(sma)\n",
        "    plt.title('SMA')\n",
        "    plt.show()  \n",
        "\n",
        "  return np.array(sma)\n",
        "\n",
        "def calc_rsi(X, display=False):\n",
        "  '''Calculates the Relative Strength Index'''\n",
        "  look_back = 24\n",
        "  rsi = np.zeros((len(X)), dtype=np.float32)\n",
        "  rsi[0] = 50.\n",
        "  avu = [.001]\n",
        "  avd = [.001]\n",
        "  for i in range(1, len(X)):\n",
        "\n",
        "    if X[i] > X[i-1]:\n",
        "      avu.append(X[i]/X[i-1])\n",
        "      if len(avu) > look_back: avu.pop(0)\n",
        "\n",
        "    else:\n",
        "      avd.append(X[i]/X[i-1])\n",
        "      if len(avd) > look_back: avd.pop(0)\n",
        "    r = (100 - (100 / (1 + (np.mean(avu) / np.mean(avd)))))\n",
        "      \n",
        "    if 50. < r < 50.1: rsi[i] = (r) \n",
        "    else: rsi[i] = 50.\n",
        "\n",
        "  if display:\n",
        "    plt.plot(rsi)\n",
        "    plt.title('RSI')\n",
        "    plt.show()\n",
        "\n",
        "  return np.array(rsi)\n",
        "\n",
        "def calc_BB(X, ma, display=False):\n",
        "  '''Calculates the Bollinger Bands Indicator'''\n",
        "  window = 48\n",
        "  bbu, bbd = np.zeros((len(X)), dtype=np.float32), np.zeros((len(X)), dtype=np.float32)\n",
        "  bbu[0] = 0.\n",
        "  bbd[0] = 0.\n",
        "\n",
        "  for i in range(1, len(X)):\n",
        "    if i < window:\n",
        "      bbu[i] = (ma[i] * np.mean(X[:window]) + 2 * np.std(X[:window]))\n",
        "      bbd[i] = (ma[i] * np.mean(X[:window]) - 2 * np.std(X[:window]))\n",
        "    else:\n",
        "      bbu[i] = (ma[i] * np.mean(X[i-window:i]) + 2 * np.std(X[i-window:i]))\n",
        "      bbd[i] = (ma[i] * np.mean(X[i-window:i]) - 2 * np.std(X[i-window:i]))\n",
        "\n",
        "  if display:\n",
        "    plt.plot(bbu[10000:])\n",
        "    plt.plot(bbd[10000:])\n",
        "    plt.title('BBands')\n",
        "    plt.show()\n",
        "\n",
        "  return np.array(bbu), np.array(bbd)\n"
      ],
      "execution_count": 29,
      "outputs": []
    },
    {
      "cell_type": "code",
      "metadata": {
        "id": "RsS3N9dblKrH",
        "colab": {
          "base_uri": "https://localhost:8080/"
        },
        "outputId": "9ffde67a-bc23-45a9-a03f-833ca67b1e11"
      },
      "source": [
        "macd, ema = calc_macd_and_ema(df, display=False)\n",
        "sma = calc_sma(df, window=32, display=False)\n",
        "rsi = calc_rsi(df, display=False)\n",
        "bbu, bbd = calc_BB(df, sma, display=False)\n",
        "\n",
        "print(f'EMA Shape: {ema.shape}')\n",
        "print(f'RSI Shape: {rsi.shape}')\n",
        "print(f'MACD Shape: {macd.shape}')\n",
        "print(f'SMA Shape: {sma.shape}')"
      ],
      "execution_count": 30,
      "outputs": [
        {
          "output_type": "stream",
          "text": [
            "EMA Shape: (1123764,)\n",
            "RSI Shape: (1123764,)\n",
            "MACD Shape: (1123764,)\n",
            "SMA Shape: (1123764,)\n"
          ],
          "name": "stdout"
        }
      ]
    },
    {
      "cell_type": "code",
      "metadata": {
        "id": "iCNiuMm6w_Cp"
      },
      "source": [
        "def split_sequences(xs, ys, n_steps):\n",
        "  '''\n",
        "  Takes an input sequence and splits it into multiple windows\n",
        "  Input array will be shape [examples, features, 1]\n",
        "  Output array will be shape [examples, time steps, features, 1]\n",
        "  '''\n",
        "  X = np.zeros((xs.shape[0], n_steps, xs.shape[1], 1), dtype=np.float32)\n",
        "  Y = np.zeros((ys.shape[0], n_steps, 1), dtype=np.float32)\n",
        "  for i in range(len(xs)):\n",
        "    end_ix = i + n_steps\n",
        "    if end_ix == len(xs):\n",
        "      break\n",
        "\n",
        "    seq_x = xs[i:end_ix, :]\n",
        "    seq_y = ys[i:end_ix]\n",
        "    zeros = np.zeros((n_steps, 7, 1))\n",
        "\n",
        "    if np.array_equal(seq_x, zeros):\n",
        "      break\n",
        "    X[i] = seq_x\n",
        "    Y[i] = seq_y\n",
        "\n",
        "  #print(f'Split X Shape: {np.array(X).shape}')\n",
        "  #print(f'Split Y Shape: {np.array(Y).shape}')\n",
        "  return np.array(X, dtype=np.float64), np.array(Y, dtype=np.float64)"
      ],
      "execution_count": 31,
      "outputs": []
    },
    {
      "cell_type": "code",
      "metadata": {
        "colab": {
          "base_uri": "https://localhost:8080/"
        },
        "id": "NuB6qrD_s1NT",
        "outputId": "f66a4023-24d8-416f-dbd8-a307091ad647"
      },
      "source": [
        "#Reshape data\n",
        "macd = macd.reshape(df.shape[0], 1)\n",
        "sma = sma.reshape(df.shape[0], 1)\n",
        "ema = ema.reshape(df.shape[0], 1)\n",
        "rsi = rsi.reshape(df.shape[0], 1)\n",
        "bbu = bbu.reshape(df.shape[0], 1)\n",
        "bbd = bbd.reshape(df.shape[0], 1)\n",
        "price = df.reshape(df.shape[0], 1)\n",
        "bin = np.zeros((df.shape[0], 1))\n",
        "\n",
        "#Normalize the data\n",
        "macd = scipy.stats.zscore(macd)\n",
        "sma =  scipy.stats.zscore(sma)\n",
        "ema = scipy.stats.zscore(ema)\n",
        "rsi =  scipy.stats.zscore(rsi)\n",
        "\n",
        "#Create Binary Labels\n",
        "for i in range(df.shape[0]-1):\n",
        "  if price[i+1] > price[i]:\n",
        "    bin[i] = 1\n",
        "  elif price[i+1] < price[i]:\n",
        "    bin[i] = 0\n",
        "  else: bin[i] = 1\n",
        "  if i == df.shape[0]:\n",
        "    bin[i] = 1\n",
        "\n",
        "test_range = price.shape[0] - 100000\n",
        "val_range = price.shape[0] - 50000\n",
        "\n",
        "data = np.stack((macd,sma,ema,rsi,bbu,bbd,price), axis=1) #Stack Data\n",
        "train = data[:test_range,...]\n",
        "test = data[test_range:val_range,...]\n",
        "val = data[val_range:,...]\n",
        "\n",
        "#Inputs\n",
        "X_train, _ = split_sequences(train, bin[:test_range], 32)\n",
        "Y_train = bin[:test_range]\n",
        "X_test, _ = split_sequences(test, bin[test_range:val_range], 32)\n",
        "Y_test = bin[test_range:val_range]\n",
        "X_val, _ = split_sequences(val, bin[val_range:], 32)\n",
        "Y_val = bin[val_range:]\n",
        "\n",
        "print(f'X Train Shape: {X_train.shape}')\n",
        "print(f'X Test Shape: {X_test.shape}')\n",
        "print(f'Y Train Shape: {Y_train.shape}')\n",
        "print(f'Y Test Shape: {Y_test.shape}')\n"
      ],
      "execution_count": 39,
      "outputs": [
        {
          "output_type": "stream",
          "text": [
            "X Train Shape: (1023764, 32, 7, 1)\n",
            "X Test Shape: (50000, 32, 7, 1)\n",
            "Y Train Shape: (1023764, 1)\n",
            "Y Test Shape: (50000, 1)\n"
          ],
          "name": "stdout"
        }
      ]
    },
    {
      "cell_type": "markdown",
      "metadata": {
        "id": "4FajAcivzDls"
      },
      "source": [
        "#Establish Metrics, Callbacks, and Simulation"
      ]
    },
    {
      "cell_type": "code",
      "metadata": {
        "id": "T_Tyz0_2X5mR"
      },
      "source": [
        "#Callback\r\n",
        "\r\n",
        "class myCallback(tf.keras.callbacks.Callback):\r\n",
        "    def on_epoch_end(self, epoch, logs={}):\r\n",
        "        if(logs.get('loss')<0.001):\r\n",
        "            print(\"\\nReached 0.001 Loss so cancelling training!\")\r\n",
        "            self.model.stop_training = True\r\n",
        "callback = myCallback()"
      ],
      "execution_count": 67,
      "outputs": []
    },
    {
      "cell_type": "code",
      "metadata": {
        "id": "ndz_CWG2BiJD"
      },
      "source": [
        "#CNN Simulation\r\n",
        "def cnn_simulation(bank, model, volatility, period,  metrics = []):\r\n",
        "  initial = bank\r\n",
        "  banked_shares = 100\r\n",
        "  savings = 0\r\n",
        "  def buy(bank, current_price, banked_shares):\r\n",
        "    available_shares = math.floor(bank / current_price)\r\n",
        "    bought = math.floor(available_shares * volatility)\r\n",
        "    banked_shares += bought\r\n",
        "    bank -= (bought * current_price)\r\n",
        "\r\n",
        "    #print(f'BOUGHT: {bought} shares, bank: {bank}, current price: {current_price}') # USE FOR DEBUGGING\r\n",
        "    \r\n",
        "    return banked_shares, bank\r\n",
        "\r\n",
        "  def sell(bank, current_price, banked_shares, savings):\r\n",
        "    liquidity = math.floor(banked_shares * current_price * volatility)\r\n",
        "    sold = math.floor(banked_shares * volatility)\r\n",
        "    if banked_shares > sold:\r\n",
        "      bank += liquidity\r\n",
        "      banked_shares -= sold\r\n",
        "    #if bank > (initial * 1.5):\r\n",
        "    #  saved = (bank - (initial * 1.5))\r\n",
        "    #  savings += saved\r\n",
        "    #  bank -= saved\r\n",
        "\r\n",
        "    #print(f'SOLD: {sold} shares, bank: {bank}, current price: {current_price}, savings: {savings}') # USE FOR DEBUGGING\r\n",
        "    \r\n",
        "    return banked_shares, bank, savings\r\n",
        "  \r\n",
        "  pred = model.predict(X_TE_C)\r\n",
        "  print(pred.shape)\r\n",
        "\r\n",
        "  trades = 0\r\n",
        "  for i in range(period):\r\n",
        "  \r\n",
        "    if (np.round(pred[i]) == 1):\r\n",
        "      trades += 1\r\n",
        "      banked_shares, bank = buy(bank, price_test[i], banked_shares)\r\n",
        "      metrics.append(bank)\r\n",
        "      #print(f'Trade # {trades}: BOUGHT     banked_shares: {banked_shares}       bank: {bank}')\r\n",
        "    elif (np.round(pred[i]) == 0) and (banked_shares > 1):\r\n",
        "      trades += 1\r\n",
        "      banked_shares, bank, savings = sell(bank, price_test[i], banked_shares, savings)\r\n",
        "      metrics.append(bank)\r\n",
        "      #print(f'Trade # {trades}: SOLD     banked_shares: {banked_shares}       bank: {bank}')\r\n",
        "\r\n",
        "    elif i == 50000:\r\n",
        "      bank += (banked_shares * price_test[i])\r\n",
        "    else:\r\n",
        "      pass \r\n",
        "  print('Bank: ', bank, ' ````` Mean: ', np.mean(metrics), '````` Savings: ', savings)\r\n",
        "  return metrics"
      ],
      "execution_count": 68,
      "outputs": []
    },
    {
      "cell_type": "markdown",
      "metadata": {
        "id": "TJdBvvc9xXDn"
      },
      "source": [
        "#Convolutional Model"
      ]
    },
    {
      "cell_type": "code",
      "metadata": {
        "id": "WId13yiOvEwY"
      },
      "source": [
        "def last_time_step_mse(Y_true, Y_pred):\n",
        "  return tf.keras.metrics.mean_squared_error(Y_true[:-1], Y_pred[:-1])\n",
        "\n",
        "def run_conv(X, Y):\n",
        "  model = tf.keras.models.Sequential([\n",
        "          tf.keras.layers.Conv2D(128, kernel_size=(7,16), padding='same', kernel_regularizer=tf.keras.regularizers.l2(0.0001)),\n",
        "          tf.keras.layers.MaxPool2D((2,2)),\n",
        "          tf.keras.layers.Conv2D(32, kernel_size=(7,4), padding='same', kernel_regularizer=tf.keras.regularizers.l2(0.0001)),\n",
        "          tf.keras.layers.MaxPool2D((2,2)),\n",
        "          tf.keras.layers.Flatten(),\n",
        "          tf.keras.layers.Dense(1, activation='sigmoid')\n",
        "  ])\n",
        "\n",
        "  model.compile(optimizer=tf.keras.optimizers.Adam(lr=0.001,), loss='binary_crossentropy', metrics=['accuracy'])\n",
        "  history = model.fit(X,Y, validation_data = (X_val, Y_val), epochs=128, batch_size=32, callbacks=[callback])\n",
        "  return history, model"
      ],
      "execution_count": 69,
      "outputs": []
    },
    {
      "cell_type": "code",
      "metadata": {
        "colab": {
          "base_uri": "https://localhost:8080/"
        },
        "id": "7IPoQJ9H-DRs",
        "outputId": "883387dc-f859-4cd8-8d37-df3883b028ba"
      },
      "source": [
        "history, model = run_conv(X_train, Y_train)"
      ],
      "execution_count": null,
      "outputs": [
        {
          "output_type": "stream",
          "text": [
            "Epoch 1/128\n",
            "7999/7999 [==============================] - 41s 5ms/step - loss: 0.6968 - accuracy: 0.5140 - val_loss: 0.6939 - val_accuracy: 0.5155\n",
            "Epoch 2/128\n",
            "7999/7999 [==============================] - 39s 5ms/step - loss: 0.6946 - accuracy: 0.5154 - val_loss: 0.6920 - val_accuracy: 0.5318\n",
            "Epoch 3/128\n",
            "7999/7999 [==============================] - 40s 5ms/step - loss: 0.5343 - accuracy: 0.7467 - val_loss: 0.3845 - val_accuracy: 0.8541\n",
            "Epoch 4/128\n",
            "7999/7999 [==============================] - 39s 5ms/step - loss: 0.2776 - accuracy: 0.9463 - val_loss: 0.4179 - val_accuracy: 0.8109\n",
            "Epoch 5/128\n",
            "7999/7999 [==============================] - 40s 5ms/step - loss: 0.2558 - accuracy: 0.9516 - val_loss: 0.3456 - val_accuracy: 0.8814\n",
            "Epoch 6/128\n",
            "7999/7999 [==============================] - 40s 5ms/step - loss: 0.2408 - accuracy: 0.9552 - val_loss: 0.2861 - val_accuracy: 0.9642\n",
            "Epoch 7/128\n",
            "7999/7999 [==============================] - 39s 5ms/step - loss: 0.2296 - accuracy: 0.9576 - val_loss: 0.3162 - val_accuracy: 0.8818\n",
            "Epoch 8/128\n",
            "7999/7999 [==============================] - 39s 5ms/step - loss: 0.2204 - accuracy: 0.9593 - val_loss: 0.2919 - val_accuracy: 0.9204\n",
            "Epoch 9/128\n",
            "7999/7999 [==============================] - 39s 5ms/step - loss: 0.2167 - accuracy: 0.9605 - val_loss: 0.3151 - val_accuracy: 0.8784\n",
            "Epoch 10/128\n",
            "7999/7999 [==============================] - 39s 5ms/step - loss: 0.2122 - accuracy: 0.9624 - val_loss: 0.2825 - val_accuracy: 0.9049\n",
            "Epoch 11/128\n",
            "7999/7999 [==============================] - 39s 5ms/step - loss: 0.2044 - accuracy: 0.9631 - val_loss: 0.3839 - val_accuracy: 0.8184\n",
            "Epoch 12/128\n",
            "7999/7999 [==============================] - 40s 5ms/step - loss: 0.2003 - accuracy: 0.9638 - val_loss: 0.2437 - val_accuracy: 0.9648\n",
            "Epoch 13/128\n",
            "7999/7999 [==============================] - 40s 5ms/step - loss: 0.1947 - accuracy: 0.9650 - val_loss: 0.2372 - val_accuracy: 0.9759\n",
            "Epoch 14/128\n",
            "7999/7999 [==============================] - 39s 5ms/step - loss: 0.1914 - accuracy: 0.9659 - val_loss: 0.2470 - val_accuracy: 0.9561\n",
            "Epoch 15/128\n",
            "7999/7999 [==============================] - 39s 5ms/step - loss: 0.1860 - accuracy: 0.9674 - val_loss: 0.2976 - val_accuracy: 0.8760\n",
            "Epoch 16/128\n",
            "7999/7999 [==============================] - 39s 5ms/step - loss: 0.1859 - accuracy: 0.9675 - val_loss: 0.2291 - val_accuracy: 0.9705\n",
            "Epoch 17/128\n",
            "7999/7999 [==============================] - 39s 5ms/step - loss: 0.1846 - accuracy: 0.9672 - val_loss: 0.2846 - val_accuracy: 0.8892\n",
            "Epoch 18/128\n",
            "7999/7999 [==============================] - 39s 5ms/step - loss: 0.1832 - accuracy: 0.9684 - val_loss: 0.2320 - val_accuracy: 0.9737\n",
            "Epoch 19/128\n",
            "7999/7999 [==============================] - 39s 5ms/step - loss: 0.1769 - accuracy: 0.9691 - val_loss: 0.2510 - val_accuracy: 0.9148\n",
            "Epoch 20/128\n",
            "7999/7999 [==============================] - 40s 5ms/step - loss: 0.1750 - accuracy: 0.9694 - val_loss: 0.2371 - val_accuracy: 0.9511\n",
            "Epoch 21/128\n",
            "7999/7999 [==============================] - 39s 5ms/step - loss: 0.1760 - accuracy: 0.9693 - val_loss: 0.2680 - val_accuracy: 0.8953\n",
            "Epoch 22/128\n",
            "7999/7999 [==============================] - 39s 5ms/step - loss: 0.1735 - accuracy: 0.9703 - val_loss: 0.2071 - val_accuracy: 0.9889\n",
            "Epoch 23/128\n",
            "7999/7999 [==============================] - 39s 5ms/step - loss: 0.1712 - accuracy: 0.9698 - val_loss: 0.2308 - val_accuracy: 0.9425\n",
            "Epoch 24/128\n",
            "7999/7999 [==============================] - 39s 5ms/step - loss: 0.1704 - accuracy: 0.9696 - val_loss: 0.2105 - val_accuracy: 0.9679\n",
            "Epoch 25/128\n",
            "7999/7999 [==============================] - 39s 5ms/step - loss: 0.1675 - accuracy: 0.9706 - val_loss: 0.2024 - val_accuracy: 0.9840\n",
            "Epoch 26/128\n",
            "7999/7999 [==============================] - 39s 5ms/step - loss: 0.1649 - accuracy: 0.9710 - val_loss: 0.2279 - val_accuracy: 0.9508\n",
            "Epoch 27/128\n",
            "7999/7999 [==============================] - 39s 5ms/step - loss: 0.1703 - accuracy: 0.9706 - val_loss: 0.2056 - val_accuracy: 0.9744\n",
            "Epoch 28/128\n",
            "7999/7999 [==============================] - 40s 5ms/step - loss: 0.1647 - accuracy: 0.9712 - val_loss: 0.2133 - val_accuracy: 0.9596\n",
            "Epoch 29/128\n",
            "7999/7999 [==============================] - 39s 5ms/step - loss: 0.1647 - accuracy: 0.9720 - val_loss: 0.2044 - val_accuracy: 0.9863\n",
            "Epoch 30/128\n",
            "7999/7999 [==============================] - 39s 5ms/step - loss: 0.1629 - accuracy: 0.9710 - val_loss: 0.2004 - val_accuracy: 0.9678\n",
            "Epoch 31/128\n",
            "7999/7999 [==============================] - 39s 5ms/step - loss: 0.1645 - accuracy: 0.9709 - val_loss: 0.2059 - val_accuracy: 0.9623\n",
            "Epoch 32/128\n",
            "7999/7999 [==============================] - 39s 5ms/step - loss: 0.1596 - accuracy: 0.9719 - val_loss: 0.2057 - val_accuracy: 0.9714\n",
            "Epoch 33/128\n",
            "7999/7999 [==============================] - 39s 5ms/step - loss: 0.1606 - accuracy: 0.9719 - val_loss: 0.2136 - val_accuracy: 0.9341\n",
            "Epoch 34/128\n",
            "7999/7999 [==============================] - 39s 5ms/step - loss: 0.1588 - accuracy: 0.9716 - val_loss: 0.2189 - val_accuracy: 0.9314\n",
            "Epoch 35/128\n",
            "7999/7999 [==============================] - 39s 5ms/step - loss: 0.1567 - accuracy: 0.9731 - val_loss: 0.3440 - val_accuracy: 0.8420\n",
            "Epoch 36/128\n",
            "7999/7999 [==============================] - 40s 5ms/step - loss: 0.1568 - accuracy: 0.9725 - val_loss: 0.2084 - val_accuracy: 0.9416\n",
            "Epoch 37/128\n",
            "7999/7999 [==============================] - 39s 5ms/step - loss: 0.1549 - accuracy: 0.9728 - val_loss: 0.1875 - val_accuracy: 0.9818\n",
            "Epoch 38/128\n",
            "7999/7999 [==============================] - 39s 5ms/step - loss: 0.1527 - accuracy: 0.9730 - val_loss: 0.2418 - val_accuracy: 0.9205\n",
            "Epoch 39/128\n",
            "7999/7999 [==============================] - 39s 5ms/step - loss: 0.1595 - accuracy: 0.9717 - val_loss: 0.2225 - val_accuracy: 0.9322\n",
            "Epoch 40/128\n",
            "7999/7999 [==============================] - 39s 5ms/step - loss: 0.1569 - accuracy: 0.9719 - val_loss: 0.2032 - val_accuracy: 0.9523\n",
            "Epoch 41/128\n",
            "7999/7999 [==============================] - 39s 5ms/step - loss: 0.1506 - accuracy: 0.9739 - val_loss: 0.2178 - val_accuracy: 0.9340\n",
            "Epoch 42/128\n",
            "7999/7999 [==============================] - 39s 5ms/step - loss: 0.1516 - accuracy: 0.9732 - val_loss: 0.1928 - val_accuracy: 0.9811\n",
            "Epoch 43/128\n",
            "7999/7999 [==============================] - 39s 5ms/step - loss: 0.1620 - accuracy: 0.9703 - val_loss: 0.2014 - val_accuracy: 0.9552\n",
            "Epoch 44/128\n",
            " 208/7999 [..............................] - ETA: 37s - loss: 0.1624 - accuracy: 0.9662"
          ],
          "name": "stdout"
        }
      ]
    },
    {
      "cell_type": "code",
      "metadata": {
        "id": "G2iR3movKzr3"
      },
      "source": [
        "#Evaluate the model on test set\r\n",
        "model.evaluate(X_test, Y_test)\r\n",
        "\r\n",
        "#Plot predictions vs true values\r\n",
        "pred = model.predict(X_test)\r\n",
        "plt.figure(figsize=(15,10))\r\n",
        "plt.plot(pred[:50], 'b', label='Pred')\r\n",
        "plt.plot(Y_test[:50], 'r', label='YS')\r\n",
        "plt.show()\r\n",
        "\r\n",
        "#Plot model loss and accuracy\r\n",
        "plt.plot(history.history['loss'], label='Loss')\r\n",
        "plt.plot(history.history['accuracy'], label='Accuracy')\r\n",
        "plt.title('Loss and Accuracy')\r\n",
        "plt.show()\r\n",
        "\r\n",
        "#Plot model validation loss and accuracy\r\n",
        "plt.plot(history.history['val_loss'], label=' Val Loss')\r\n",
        "plt.plot(history.history['val_accuracy'], label='Val Accuracy')\r\n",
        "plt.title('Val Loss and Accuracy')\r\n",
        "plt.show()"
      ],
      "execution_count": null,
      "outputs": []
    },
    {
      "cell_type": "code",
      "metadata": {
        "id": "EF1hEQ1VYJf7"
      },
      "source": [
        "model.save('FX_Model.h5')"
      ],
      "execution_count": null,
      "outputs": []
    }
  ]
}